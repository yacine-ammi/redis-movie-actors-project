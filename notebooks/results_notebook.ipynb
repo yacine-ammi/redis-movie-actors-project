{
 "cells": [
  {
   "cell_type": "code",
   "execution_count": 1,
   "metadata": {
    "id": "QdDJ5B7e0QWR"
   },
   "outputs": [
    {
     "name": "stdout",
     "output_type": "stream",
     "text": [
      "Requirement already satisfied: redis in d:\\study\\msc de\\data pipelines\\redis-movie-actors-project\\.venv\\lib\\site-packages (6.0.0)\n",
      "Note: you may need to restart the kernel to use updated packages.\n"
     ]
    }
   ],
   "source": [
    "%pip install redis"
   ]
  },
  {
   "cell_type": "code",
   "execution_count": 20,
   "metadata": {},
   "outputs": [
    {
     "name": "stdout",
     "output_type": "stream",
     "text": [
      "Connected to Redis!\n"
     ]
    }
   ],
   "source": [
    "import redis\n",
    "\n",
    "r = redis.Redis(host='localhost', port=6379, decode_responses=True, db=0)\n",
    "\n",
    "ping = r.ping()\n",
    "print(\"Connected to Redis!\" if ping else \"Connection failed.\")\n",
    "\n"
   ]
  },
  {
   "cell_type": "markdown",
   "metadata": {},
   "source": [
    "## Q1: How many actors and movies are stored in Redis?"
   ]
  },
  {
   "cell_type": "code",
   "execution_count": 21,
   "metadata": {},
   "outputs": [
    {
     "name": "stdout",
     "output_type": "stream",
     "text": [
      "Total actors: 1319\n",
      "Total movies: 922\n"
     ]
    }
   ],
   "source": [
    "actor_keys = list(r.scan_iter(\"actor:*\"))\n",
    "movie_keys = list(r.scan_iter(\"movie:*\"))\n",
    "\n",
    "print(\"Total actors:\", len(actor_keys))\n",
    "print(\"Total movies:\", len(movie_keys))\n"
   ]
  },
  {
   "cell_type": "markdown",
   "metadata": {},
   "source": [
    "## Q2: List 5 actors born before 1980"
   ]
  },
  {
   "cell_type": "code",
   "execution_count": 22,
   "metadata": {
    "id": "CaaJS-xP0OW1"
   },
   "outputs": [
    {
     "name": "stdout",
     "output_type": "stream",
     "text": [
      "Vincent Price - 1911\n",
      "Dolph Lundgren - 1957\n",
      "Lance Reddick - 1962\n",
      "Jessica Lange - 1949\n",
      "Adam Scott - 1973\n"
     ]
    }
   ],
   "source": [
    "actors_pre_1980 = []\n",
    "\n",
    "for key in actor_keys:\n",
    "    dob = r.hget(key, \"date_of_birth\")\n",
    "    if dob and int(dob) < 1980:\n",
    "        actor = r.hgetall(key)\n",
    "        actors_pre_1980.append(actor)\n",
    "    if len(actors_pre_1980) >= 5:\n",
    "        break\n",
    "\n",
    "for a in actors_pre_1980:\n",
    "    print(f\"{a['first_name']} {a['last_name']} - {a['date_of_birth']}\")\n"
   ]
  },
  {
   "cell_type": "markdown",
   "metadata": {},
   "source": [
    "## Q3: Genre and rating of \"The Imitation Game\""
   ]
  },
  {
   "cell_type": "code",
   "execution_count": 23,
   "metadata": {},
   "outputs": [
    {
     "name": "stdout",
     "output_type": "stream",
     "text": [
      "Genre: Biography, Rating: 8.1\n"
     ]
    }
   ],
   "source": [
    "for key in movie_keys:\n",
    "    title = r.hget(key, \"title\")\n",
    "    if title == \"The Imitation Game\":\n",
    "        genre = r.hget(key, \"genre\")\n",
    "        rating = r.hget(key, \"rating\")\n",
    "        print(f\"Genre: {genre}, Rating: {rating}\")\n",
    "        break\n"
   ]
  },
  {
   "cell_type": "markdown",
   "metadata": {},
   "source": [
    "## Q4: Top 5 highest-rated movies"
   ]
  },
  {
   "cell_type": "code",
   "execution_count": 24,
   "metadata": {},
   "outputs": [
    {
     "name": "stdout",
     "output_type": "stream",
     "text": [
      "Boy 9: 9.4\n",
      "Vegas (doc): 9.4\n",
      "The Shawshank Redemption: 9.3\n",
      "Ween Live in Chicago: 9.2\n",
      "Over Canada: An Aerial Adventure: 9.1\n"
     ]
    }
   ],
   "source": [
    "movies = []\n",
    "\n",
    "for key in movie_keys:\n",
    "    try:\n",
    "        rating = float(r.hget(key, \"rating\"))\n",
    "        title = r.hget(key, \"title\")\n",
    "        movies.append((title, rating))\n",
    "    except:\n",
    "        continue\n",
    "\n",
    "top_5 = sorted(movies, key=lambda x: x[1], reverse=True)[:5]\n",
    "\n",
    "for title, rating in top_5:\n",
    "    print(f\"{title}: {rating}\")\n"
   ]
  },
  {
   "cell_type": "markdown",
   "metadata": {},
   "source": [
    "## Q5: How many movies have rating above 7.5"
   ]
  },
  {
   "cell_type": "code",
   "execution_count": 25,
   "metadata": {},
   "outputs": [
    {
     "name": "stdout",
     "output_type": "stream",
     "text": [
      "Movies with rating > 7.5: 183\n"
     ]
    }
   ],
   "source": [
    "count = 0\n",
    "\n",
    "for key in movie_keys:\n",
    "    try:\n",
    "        rating = float(r.hget(key, \"rating\"))\n",
    "        if rating > 7.5:\n",
    "            count += 1\n",
    "    except:\n",
    "        continue\n",
    "\n",
    "print(\"Movies with rating > 7.5:\", count)\n"
   ]
  },
  {
   "cell_type": "markdown",
   "metadata": {},
   "source": [
    "## Q6: Update \"The Imitation Game\" to rating 8.5"
   ]
  },
  {
   "cell_type": "code",
   "execution_count": 26,
   "metadata": {},
   "outputs": [
    {
     "name": "stdout",
     "output_type": "stream",
     "text": [
      "Updated The Imitation Game to rating 8.5\n"
     ]
    }
   ],
   "source": [
    "for key in movie_keys:\n",
    "    title = r.hget(key, \"title\")\n",
    "    if title == \"The Imitation Game\":\n",
    "        r.hset(key, \"rating\", 8.5)\n",
    "        print(f\"Updated {title} to rating 8.5\")\n",
    "        break\n"
   ]
  },
  {
   "cell_type": "markdown",
   "metadata": {},
   "source": [
    "## Q8: Delete movie titled \"The Room\""
   ]
  },
  {
   "cell_type": "code",
   "execution_count": 27,
   "metadata": {},
   "outputs": [],
   "source": [
    "for key in movie_keys:\n",
    "    title = r.hget(key, \"title\")\n",
    "    if title == \"The Room\":\n",
    "        r.delete(key)\n",
    "        print(\"Deleted movie:\", title)\n",
    "        break\n"
   ]
  }
 ],
 "metadata": {
  "colab": {
   "provenance": []
  },
  "kernelspec": {
   "display_name": ".venv",
   "language": "python",
   "name": "python3"
  },
  "language_info": {
   "codemirror_mode": {
    "name": "ipython",
    "version": 3
   },
   "file_extension": ".py",
   "mimetype": "text/x-python",
   "name": "python",
   "nbconvert_exporter": "python",
   "pygments_lexer": "ipython3",
   "version": "3.11.9"
  }
 },
 "nbformat": 4,
 "nbformat_minor": 4
}
